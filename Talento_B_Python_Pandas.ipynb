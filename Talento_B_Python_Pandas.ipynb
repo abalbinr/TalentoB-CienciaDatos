{
  "nbformat": 4,
  "nbformat_minor": 0,
  "metadata": {
    "colab": {
      "provenance": []
    },
    "kernelspec": {
      "name": "python3",
      "display_name": "Python 3"
    },
    "language_info": {
      "name": "python"
    }
  },
  "cells": [
    {
      "cell_type": "code",
      "execution_count": 5,
      "metadata": {
        "id": "cssPVpiU0Iql"
      },
      "outputs": [],
      "source": [
        "import pandas as pd\n",
        "import matplotlib.pyplot as plt\n",
        "import seaborn as sns"
      ]
    },
    {
      "cell_type": "code",
      "source": [
        "# Leer los archivos de Excel\n",
        "obligaciones_clientes = pd.read_excel(\"./datos/obligaciones_clientes.xlsx\", sheet_name=\"Obligaciones_clientes\")\n",
        "tasas_productos = pd.read_excel('./datos/tasas_productos.xlsx', sheet_name=\"Tasas\")"
      ],
      "metadata": {
        "id": "dCclGR-K1aDw"
      },
      "execution_count": 6,
      "outputs": []
    },
    {
      "cell_type": "code",
      "source": [
        "# Estructura de las 5 primeras columnas de obligaciones_clientes\n",
        "print(obligaciones_clientes.head())"
      ],
      "metadata": {
        "colab": {
          "base_uri": "https://localhost:8080/"
        },
        "id": "gIrgmI683Dvi",
        "outputId": "361d5fe1-b79b-4f2f-9ddf-6e8d510e1154"
      },
      "execution_count": 8,
      "outputs": [
        {
          "output_type": "stream",
          "name": "stdout",
          "text": [
            "      radicado  num_documento  cod_segm_tasa  cod_subsegm_tasa  \\\n",
            "0  14427616502     1081648945              5                 2   \n",
            "1  14427616257     1032058622              2                -1   \n",
            "2  14427615471     1081374249              5                 2   \n",
            "3  14426546522      996136114              5                 1   \n",
            "4  14427616197     1080662762              5                 2   \n",
            "\n",
            "  cal_interna_tasa                             id_producto  \\\n",
            "0               C4              OEL - operacion_especifica   \n",
            "1               R1  0000000000097492172 - 29-Cartera Total   \n",
            "2               C4                           OEL - leasing   \n",
            "3               C1  0000000090000272791 - 29-Cartera Total   \n",
            "4               C4  0000000090000242224 - 29-Cartera Total   \n",
            "\n",
            "        tipo_id_producto  valor_inicial fecha_desembolso  plazo  \\\n",
            "0    cod_plan - producto   1.050000e+06       2023-01-31   60.0   \n",
            "1  Obligacion - producto   2.848500e+05       2021-09-30   61.0   \n",
            "2    cod_plan - producto   7.528858e+04       2023-01-31   60.0   \n",
            "3  Obligacion - producto   6.240000e+05       2021-09-30  121.0   \n",
            "4  Obligacion - producto   1.909350e+05       2021-12-31   48.0   \n",
            "\n",
            "   cod_periodicidad periodicidad   saldo_deuda modalidad tipo_plazo  \n",
            "0                 1      MENSUAL  1.050000e+06     Nuevo         LP  \n",
            "1                 1      MENSUAL  2.414313e+05    Actual         LP  \n",
            "2                 1      MENSUAL  7.528858e+04     Nuevo         LP  \n",
            "3                 1      MENSUAL  4.375334e+05    Actual         LP  \n",
            "4                 1      MENSUAL  1.159688e+05    Actual         LP  \n"
          ]
        }
      ]
    },
    {
      "cell_type": "code",
      "source": [
        "# Estructura de las 5 primeras columnas de tasas_productos\n",
        "print(tasas_productos.head())"
      ],
      "metadata": {
        "colab": {
          "base_uri": "https://localhost:8080/"
        },
        "id": "X0Lp6XJB3FMv",
        "outputId": "5c0a45a4-2d83-443e-b141-d0dac10932df"
      },
      "execution_count": 9,
      "outputs": [
        {
          "output_type": "stream",
          "name": "stdout",
          "text": [
            "   cod_segmento                   segmento  cod_subsegmento  \\\n",
            "0             9  NEGOCIOS E INDEPENDIENTES               -1   \n",
            "1             9  NEGOCIOS E INDEPENDIENTES               -1   \n",
            "2             9  NEGOCIOS E INDEPENDIENTES               -1   \n",
            "3             9  NEGOCIOS E INDEPENDIENTES               -1   \n",
            "4             9  NEGOCIOS E INDEPENDIENTES               -1   \n",
            "\n",
            "  calificacion_riesgos  tasa_cartera  tasa_operacion_especifica  \\\n",
            "0                  C12      0.259170                   0.242689   \n",
            "1                  C11      0.250350                   0.239824   \n",
            "2                  C10      0.244242                   0.237597   \n",
            "3                   C9      0.232909                   0.233487   \n",
            "4                   C8      0.223275                   0.228521   \n",
            "\n",
            "   tasa_hipotecario  tasa_leasing  tasa_sufi  tasa_factoring  tasa_tarjeta  \n",
            "0          0.184613      0.146794   0.134048        0.146465        0.3867  \n",
            "1          0.206170      0.137014   0.126061        0.158310        0.3867  \n",
            "2          0.089940      0.137798   0.116774        0.164796        0.3867  \n",
            "3          0.159345      0.143824   0.123468        0.168163        0.3867  \n",
            "4          0.137500      0.144439   0.189358        0.175926        0.3867  \n"
          ]
        }
      ]
    },
    {
      "cell_type": "code",
      "source": [
        "# Valores faltantes de obligaciones_clientes\n",
        "print(obligaciones_clientes.isnull().sum())\n",
        "\n",
        "\"\"\"\n",
        "Solo plazo tiene 6 valores faltantes, no afecta al proposito final de este reto\n",
        "\"\"\""
      ],
      "metadata": {
        "colab": {
          "base_uri": "https://localhost:8080/",
          "height": 330
        },
        "id": "H9WPgNMU3X7-",
        "outputId": "9ec39e74-c766-43ed-9933-777f820dd8a7"
      },
      "execution_count": 10,
      "outputs": [
        {
          "output_type": "stream",
          "name": "stdout",
          "text": [
            "radicado            0\n",
            "num_documento       0\n",
            "cod_segm_tasa       0\n",
            "cod_subsegm_tasa    0\n",
            "cal_interna_tasa    0\n",
            "id_producto         0\n",
            "tipo_id_producto    0\n",
            "valor_inicial       0\n",
            "fecha_desembolso    0\n",
            "plazo               6\n",
            "cod_periodicidad    0\n",
            "periodicidad        0\n",
            "saldo_deuda         0\n",
            "modalidad           0\n",
            "tipo_plazo          0\n",
            "dtype: int64\n"
          ]
        },
        {
          "output_type": "execute_result",
          "data": {
            "text/plain": [
              "'\\nSolo plazo tiene 6 valores faltantes, pero son introducidos a proposito en excel,\\nposiblemente tendrá algún proposito\\n'"
            ],
            "application/vnd.google.colaboratory.intrinsic+json": {
              "type": "string"
            }
          },
          "metadata": {},
          "execution_count": 10
        }
      ]
    },
    {
      "cell_type": "code",
      "source": [
        "# Valores faltantes de tasas_productos\n",
        "print(tasas_productos.isnull().sum())"
      ],
      "metadata": {
        "colab": {
          "base_uri": "https://localhost:8080/"
        },
        "id": "82vFgxDv3fM2",
        "outputId": "df887c2c-e55c-4d1e-f420-898f4070a48c"
      },
      "execution_count": 11,
      "outputs": [
        {
          "output_type": "stream",
          "name": "stdout",
          "text": [
            "cod_segmento                 0\n",
            "segmento                     0\n",
            "cod_subsegmento              0\n",
            "calificacion_riesgos         0\n",
            "tasa_cartera                 0\n",
            "tasa_operacion_especifica    0\n",
            "tasa_hipotecario             0\n",
            "tasa_leasing                 0\n",
            "tasa_sufi                    0\n",
            "tasa_factoring               0\n",
            "tasa_tarjeta                 0\n",
            "dtype: int64\n"
          ]
        }
      ]
    },
    {
      "cell_type": "code",
      "source": [
        "# Resumen estadístico de cada columna de obligaciones_clientes\n",
        "for columna in obligaciones_clientes.columns:\n",
        "      print(\"Descripción de la columna: \" + columna)\n",
        "      print(obligaciones_clientes[columna].describe())\n",
        "      print(\"\\n\" + \"-\"*50 + \"\\n\")"
      ],
      "metadata": {
        "colab": {
          "base_uri": "https://localhost:8080/"
        },
        "id": "cdAjfRm84VNO",
        "outputId": "b780f0a8-ce0d-4ac0-fb63-f882bb1389e4"
      },
      "execution_count": 12,
      "outputs": [
        {
          "output_type": "stream",
          "name": "stdout",
          "text": [
            "Descripción de la columna: radicado\n",
            "count    2.048000e+03\n",
            "mean     1.377756e+10\n",
            "std      2.856318e+09\n",
            "min      1.442655e+07\n",
            "25%      1.442761e+10\n",
            "50%      1.442762e+10\n",
            "75%      1.442762e+10\n",
            "max      1.442762e+10\n",
            "Name: radicado, dtype: float64\n",
            "\n",
            "--------------------------------------------------\n",
            "\n",
            "Descripción de la columna: num_documento\n",
            "count    2.048000e+03\n",
            "mean     9.304497e+08\n",
            "std      3.602105e+08\n",
            "min      3.907738e+06\n",
            "25%      9.960408e+08\n",
            "50%      1.080296e+09\n",
            "75%      1.081053e+09\n",
            "max      1.353933e+09\n",
            "Name: num_documento, dtype: float64\n",
            "\n",
            "--------------------------------------------------\n",
            "\n",
            "Descripción de la columna: cod_segm_tasa\n",
            "count    2048.000000\n",
            "mean        4.713867\n",
            "std         1.412196\n",
            "min         2.000000\n",
            "25%         5.000000\n",
            "50%         5.000000\n",
            "75%         5.000000\n",
            "max         9.000000\n",
            "Name: cod_segm_tasa, dtype: float64\n",
            "\n",
            "--------------------------------------------------\n",
            "\n",
            "Descripción de la columna: cod_subsegm_tasa\n",
            "count    2048.000000\n",
            "mean        1.887695\n",
            "std         1.715496\n",
            "min        -1.000000\n",
            "25%         1.000000\n",
            "50%         2.000000\n",
            "75%         3.000000\n",
            "max         4.000000\n",
            "Name: cod_subsegm_tasa, dtype: float64\n",
            "\n",
            "--------------------------------------------------\n",
            "\n",
            "Descripción de la columna: cal_interna_tasa\n",
            "count     2048\n",
            "unique      26\n",
            "top         C1\n",
            "freq       245\n",
            "Name: cal_interna_tasa, dtype: object\n",
            "\n",
            "--------------------------------------------------\n",
            "\n",
            "Descripción de la columna: id_producto\n",
            "count              2048\n",
            "unique              788\n",
            "top       RLP - cartera\n",
            "freq                419\n",
            "Name: id_producto, dtype: object\n",
            "\n",
            "--------------------------------------------------\n",
            "\n",
            "Descripción de la columna: tipo_id_producto\n",
            "count                    2048\n",
            "unique                      2\n",
            "top       cod_plan - producto\n",
            "freq                     1210\n",
            "Name: tipo_id_producto, dtype: object\n",
            "\n",
            "--------------------------------------------------\n",
            "\n",
            "Descripción de la columna: valor_inicial\n",
            "count    2.048000e+03\n",
            "mean     3.376266e+05\n",
            "std      8.310146e+05\n",
            "min      3.453000e+01\n",
            "25%      3.705000e+04\n",
            "50%      1.131000e+05\n",
            "75%      3.043125e+05\n",
            "max      1.395000e+07\n",
            "Name: valor_inicial, dtype: float64\n",
            "\n",
            "--------------------------------------------------\n",
            "\n",
            "Descripción de la columna: fecha_desembolso\n",
            "count                             2048\n",
            "mean     2021-07-13 07:44:03.750000128\n",
            "min                1994-10-31 00:00:00\n",
            "25%                2021-03-24 18:00:00\n",
            "50%                2022-08-10 00:00:00\n",
            "75%                2023-01-31 00:00:00\n",
            "max                2023-01-31 00:00:00\n",
            "Name: fecha_desembolso, dtype: object\n",
            "\n",
            "--------------------------------------------------\n",
            "\n",
            "Descripción de la columna: plazo\n",
            "count      2042.000000\n",
            "mean        285.585211\n",
            "std        9122.230011\n",
            "min           0.000000\n",
            "25%          12.000000\n",
            "50%          36.000000\n",
            "75%          48.000000\n",
            "max      400000.000000\n",
            "Name: plazo, dtype: float64\n",
            "\n",
            "--------------------------------------------------\n",
            "\n",
            "Descripción de la columna: cod_periodicidad\n",
            "count    2048.000000\n",
            "mean        1.272949\n",
            "std         1.284689\n",
            "min         1.000000\n",
            "25%         1.000000\n",
            "50%         1.000000\n",
            "75%         1.000000\n",
            "max        12.000000\n",
            "Name: cod_periodicidad, dtype: float64\n",
            "\n",
            "--------------------------------------------------\n",
            "\n",
            "Descripción de la columna: periodicidad\n",
            "count        2048\n",
            "unique          5\n",
            "top       MENSUAL\n",
            "freq         1928\n",
            "Name: periodicidad, dtype: object\n",
            "\n",
            "--------------------------------------------------\n",
            "\n",
            "Descripción de la columna: saldo_deuda\n",
            "count    2.048000e+03\n",
            "mean     2.462359e+05\n",
            "std      6.592792e+05\n",
            "min      0.000000e+00\n",
            "25%      1.953816e+04\n",
            "50%      7.208614e+04\n",
            "75%      2.249720e+05\n",
            "max      1.385120e+07\n",
            "Name: saldo_deuda, dtype: float64\n",
            "\n",
            "--------------------------------------------------\n",
            "\n",
            "Descripción de la columna: modalidad\n",
            "count       2048\n",
            "unique         2\n",
            "top       Actual\n",
            "freq        1220\n",
            "Name: modalidad, dtype: object\n",
            "\n",
            "--------------------------------------------------\n",
            "\n",
            "Descripción de la columna: tipo_plazo\n",
            "count     2048\n",
            "unique       2\n",
            "top         CP\n",
            "freq      1459\n",
            "Name: tipo_plazo, dtype: object\n",
            "\n",
            "--------------------------------------------------\n",
            "\n"
          ]
        }
      ]
    },
    {
      "cell_type": "code",
      "source": [
        "# Resumen estadístico de cada columna de tasas_productos\n",
        "for columna in tasas_productos.columns:\n",
        "      print(\"Descripción de la columna: \" + columna)\n",
        "      print(tasas_productos[columna].describe())\n",
        "      print(\"\\n\" + \"-\"*50 + \"\\n\")"
      ],
      "metadata": {
        "colab": {
          "base_uri": "https://localhost:8080/"
        },
        "id": "7oiPuWkM4nPF",
        "outputId": "fa852d6b-a4b1-4de0-8a1b-0f5abefc75ea"
      },
      "execution_count": 13,
      "outputs": [
        {
          "output_type": "stream",
          "name": "stdout",
          "text": [
            "Descripción de la columna: cod_segmento\n",
            "count    117.000000\n",
            "mean       5.179487\n",
            "std        1.954726\n",
            "min        2.000000\n",
            "25%        5.000000\n",
            "50%        5.000000\n",
            "75%        5.000000\n",
            "max        9.000000\n",
            "Name: cod_segmento, dtype: float64\n",
            "\n",
            "--------------------------------------------------\n",
            "\n",
            "Descripción de la columna: segmento\n",
            "count      117\n",
            "unique       4\n",
            "top       PYME\n",
            "freq        76\n",
            "Name: segmento, dtype: object\n",
            "\n",
            "--------------------------------------------------\n",
            "\n",
            "Descripción de la columna: cod_subsegmento\n",
            "count    117.000000\n",
            "mean       1.273504\n",
            "std        1.905636\n",
            "min       -1.000000\n",
            "25%       -1.000000\n",
            "50%        1.000000\n",
            "75%        3.000000\n",
            "max        4.000000\n",
            "Name: cod_subsegmento, dtype: float64\n",
            "\n",
            "--------------------------------------------------\n",
            "\n",
            "Descripción de la columna: calificacion_riesgos\n",
            "count     117\n",
            "unique     30\n",
            "top       C12\n",
            "freq        5\n",
            "Name: calificacion_riesgos, dtype: object\n",
            "\n",
            "--------------------------------------------------\n",
            "\n",
            "Descripción de la columna: tasa_cartera\n",
            "count    117.000000\n",
            "mean       0.216555\n",
            "std        0.047485\n",
            "min        0.121857\n",
            "25%        0.181164\n",
            "50%        0.213129\n",
            "75%        0.252353\n",
            "max        0.341465\n",
            "Name: tasa_cartera, dtype: float64\n",
            "\n",
            "--------------------------------------------------\n",
            "\n",
            "Descripción de la columna: tasa_operacion_especifica\n",
            "count    117.000000\n",
            "mean       0.206993\n",
            "std        0.037443\n",
            "min        0.125019\n",
            "25%        0.183374\n",
            "50%        0.212406\n",
            "75%        0.233487\n",
            "max        0.268191\n",
            "Name: tasa_operacion_especifica, dtype: float64\n",
            "\n",
            "--------------------------------------------------\n",
            "\n",
            "Descripción de la columna: tasa_hipotecario\n",
            "count    117.000000\n",
            "mean       0.145911\n",
            "std        0.038104\n",
            "min        0.072960\n",
            "25%        0.124317\n",
            "50%        0.149184\n",
            "75%        0.160708\n",
            "max        0.279610\n",
            "Name: tasa_hipotecario, dtype: float64\n",
            "\n",
            "--------------------------------------------------\n",
            "\n",
            "Descripción de la columna: tasa_leasing\n",
            "count    117.000000\n",
            "mean       0.125714\n",
            "std        0.016274\n",
            "min        0.082563\n",
            "25%        0.113946\n",
            "50%        0.126644\n",
            "75%        0.137798\n",
            "max        0.167353\n",
            "Name: tasa_leasing, dtype: float64\n",
            "\n",
            "--------------------------------------------------\n",
            "\n",
            "Descripción de la columna: tasa_sufi\n",
            "count    117.000000\n",
            "mean       0.106264\n",
            "std        0.029092\n",
            "min        0.030000\n",
            "25%        0.086381\n",
            "50%        0.106629\n",
            "75%        0.125831\n",
            "max        0.189358\n",
            "Name: tasa_sufi, dtype: float64\n",
            "\n",
            "--------------------------------------------------\n",
            "\n",
            "Descripción de la columna: tasa_factoring\n",
            "count    117.000000\n",
            "mean       0.150124\n",
            "std        0.021251\n",
            "min        0.117449\n",
            "25%        0.139856\n",
            "50%        0.146465\n",
            "75%        0.158310\n",
            "max        0.253819\n",
            "Name: tasa_factoring, dtype: float64\n",
            "\n",
            "--------------------------------------------------\n",
            "\n",
            "Descripción de la columna: tasa_tarjeta\n",
            "count    1.170000e+02\n",
            "mean     3.867000e-01\n",
            "std      3.902494e-16\n",
            "min      3.867000e-01\n",
            "25%      3.867000e-01\n",
            "50%      3.867000e-01\n",
            "75%      3.867000e-01\n",
            "max      3.867000e-01\n",
            "Name: tasa_tarjeta, dtype: float64\n",
            "\n",
            "--------------------------------------------------\n",
            "\n"
          ]
        }
      ]
    },
    {
      "cell_type": "markdown",
      "source": [
        "# Se requiere tomar las obligaciones de cada cliente y agregar la tasa correspondiente al producto asignado"
      ],
      "metadata": {
        "id": "cPjmedc5Bmj0"
      }
    },
    {
      "cell_type": "code",
      "source": [
        "import pandas as pd\n",
        "\n",
        "# Renombrar columnas para que coincidan en el join\n",
        "tasas_productos.rename(columns={\n",
        "    'cod_segmento': 'cod_segm_tasa',\n",
        "    'cod_subsegmento': 'cod_subsegm_tasa',\n",
        "    'calificacion_riesgos': 'cal_interna_tasa'\n",
        "}, inplace=True)\n",
        "\n",
        "# Merge entre las tablas (Join left)\n",
        "merged_df = pd.merge(\n",
        "    obligaciones_clientes,\n",
        "    tasas_productos,\n",
        "    on=['cod_segm_tasa', 'cod_subsegm_tasa', 'cal_interna_tasa'],\n",
        "    how='left'\n",
        ")\n",
        "\n",
        "# Inicialmente cada columna va a tener todas las tasas para que sea mas facil\n",
        "# escogerla entre todas. La función de obtener tasa, evaluará que tasa corresponde\n",
        "# al producto de la fila.\n",
        "def obtener_tasa(row):\n",
        "    producto = row['id_producto'].lower()\n",
        "    if 'cartera' in producto:\n",
        "        return row['tasa_cartera']\n",
        "    elif 'hipotecario' in producto:\n",
        "        return row['tasa_hipotecario']\n",
        "    elif 'leasing' in producto:\n",
        "        return row['tasa_leasing']\n",
        "    elif 'sufi' in producto:\n",
        "        return row['tasa_sufi']\n",
        "    elif 'factoring' in producto:\n",
        "        return row['tasa_factoring']\n",
        "    elif 'tarjeta' in producto:\n",
        "        return row['tasa_tarjeta']\n",
        "    elif 'operacion_especifica' in producto:\n",
        "        return row['tasa_operacion_especifica']\n",
        "    else:\n",
        "        return None\n",
        "\n",
        "# Aqui se aplicará la función anterior y será almacenada en una columna nueva\n",
        "# llamada tasa_asignada.\n",
        "merged_df['tasa_asignada'] = merged_df.apply(obtener_tasa, axis=1)\n",
        "\n",
        "# Borrar las columnas de las tasas que se usaron para el procedimiento\n",
        "merged_df = merged_df.drop([\"tasa_cartera\", \"tasa_hipotecario\", \"tasa_leasing\", \"tasa_sufi\", \"tasa_factoring\", \"tasa_tarjeta\", \"tasa_operacion_especifica\"], axis=1)\n",
        "\n",
        "print(merged_df.head())\n"
      ],
      "metadata": {
        "colab": {
          "base_uri": "https://localhost:8080/"
        },
        "id": "wlhWRcDu8wQn",
        "outputId": "457efc2b-3ec5-4196-c75e-a08e9954380e"
      },
      "execution_count": 14,
      "outputs": [
        {
          "output_type": "stream",
          "name": "stdout",
          "text": [
            "      radicado  num_documento  cod_segm_tasa  cod_subsegm_tasa  \\\n",
            "0  14427616502     1081648945              5                 2   \n",
            "1  14427616257     1032058622              2                -1   \n",
            "2  14427615471     1081374249              5                 2   \n",
            "3  14426546522      996136114              5                 1   \n",
            "4  14427616197     1080662762              5                 2   \n",
            "\n",
            "  cal_interna_tasa                             id_producto  \\\n",
            "0               C4              OEL - operacion_especifica   \n",
            "1               R1  0000000000097492172 - 29-Cartera Total   \n",
            "2               C4                           OEL - leasing   \n",
            "3               C1  0000000090000272791 - 29-Cartera Total   \n",
            "4               C4  0000000090000242224 - 29-Cartera Total   \n",
            "\n",
            "        tipo_id_producto  valor_inicial fecha_desembolso  plazo  \\\n",
            "0    cod_plan - producto   1.050000e+06       2023-01-31   60.0   \n",
            "1  Obligacion - producto   2.848500e+05       2021-09-30   61.0   \n",
            "2    cod_plan - producto   7.528858e+04       2023-01-31   60.0   \n",
            "3  Obligacion - producto   6.240000e+05       2021-09-30  121.0   \n",
            "4  Obligacion - producto   1.909350e+05       2021-12-31   48.0   \n",
            "\n",
            "   cod_periodicidad periodicidad   saldo_deuda modalidad tipo_plazo  \\\n",
            "0                 1      MENSUAL  1.050000e+06     Nuevo         LP   \n",
            "1                 1      MENSUAL  2.414313e+05    Actual         LP   \n",
            "2                 1      MENSUAL  7.528858e+04     Nuevo         LP   \n",
            "3                 1      MENSUAL  4.375334e+05    Actual         LP   \n",
            "4                 1      MENSUAL  1.159688e+05    Actual         LP   \n",
            "\n",
            "      segmento  tasa_asignada  \n",
            "0         PYME       0.202839  \n",
            "1  Empresarial       0.121857  \n",
            "2         PYME       0.134434  \n",
            "3         PYME       0.193960  \n",
            "4         PYME       0.190215  \n"
          ]
        }
      ]
    },
    {
      "cell_type": "code",
      "source": [
        "# Resumen estadístico de la columna\n",
        "columna = \"tasa_asignada\"\n",
        "print(\"Descripción de la columna: \" + columna)\n",
        "print(merged_df[columna].describe())\n",
        "print(\"\\n\" + \"-\"*50 + \"\\n\")"
      ],
      "metadata": {
        "colab": {
          "base_uri": "https://localhost:8080/"
        },
        "id": "0Beph--lB9WX",
        "outputId": "56d85952-056e-45fd-d9d3-c1f62197b704"
      },
      "execution_count": 15,
      "outputs": [
        {
          "output_type": "stream",
          "name": "stdout",
          "text": [
            "Descripción de la columna: tasa_asignada\n",
            "count    2048.000000\n",
            "mean        0.234230\n",
            "std         0.080476\n",
            "min         0.088588\n",
            "25%         0.167614\n",
            "50%         0.213655\n",
            "75%         0.279129\n",
            "max         0.386700\n",
            "Name: tasa_asignada, dtype: float64\n",
            "\n",
            "--------------------------------------------------\n",
            "\n"
          ]
        }
      ]
    },
    {
      "cell_type": "markdown",
      "source": [
        "# Se debe convertir la tasa a una tasa efectiva"
      ],
      "metadata": {
        "id": "7OwwlHFHDNZl"
      }
    },
    {
      "cell_type": "code",
      "source": [
        "# Función para obtener el valor numérico de la periodicidad\n",
        "def obtener_periodicidad(periodicidad):\n",
        "    if periodicidad.lower() == \"mensual\":\n",
        "        return 1\n",
        "    elif periodicidad.lower() == \"bimensual\":\n",
        "        return 2\n",
        "    elif periodicidad.lower() == \"trimestral\":\n",
        "        return 3\n",
        "    elif periodicidad.lower() == \"semestral\":\n",
        "        return 6\n",
        "    elif periodicidad.lower() == \"anual\":\n",
        "        return 12\n",
        "    else:\n",
        "        return None\n",
        "\n",
        "# Periodicidad que se obtiene con la función anterior\n",
        "merged_df['periodicidad_num'] = merged_df['periodicidad'].apply(obtener_periodicidad)\n",
        "\n",
        "# n = 12 / periodicidad_num\n",
        "merged_df['n'] = 12 / merged_df['periodicidad_num']\n",
        "\n",
        "# Función para calcular la tasa efectiva\n",
        "def calcular_tasa_efectiva(row):\n",
        "    t = row['tasa_asignada']\n",
        "    n = row['n']\n",
        "    return (1 + t) ** (1 / n) - 1\n",
        "\n",
        "# Nueva columna con la tasa efectiva (Aplica la función de calcular_tasa_efectiva)\n",
        "merged_df['tasa_efectiva'] = merged_df.apply(calcular_tasa_efectiva, axis=1)\n",
        "\n",
        "# Borrar las columnas extras que se crearon para cálcular la tasa efectiva\n",
        "merged_df = merged_df.drop([\"periodicidad_num\", \"n\"], axis=1)\n",
        "\n",
        "print(merged_df.tasa_efectiva.head())\n"
      ],
      "metadata": {
        "colab": {
          "base_uri": "https://localhost:8080/"
        },
        "id": "VZYxfS1WDNr9",
        "outputId": "1a24ff1b-1bd9-47d7-e0ab-50bcb2665f94"
      },
      "execution_count": 16,
      "outputs": [
        {
          "output_type": "stream",
          "name": "stdout",
          "text": [
            "0    0.015509\n",
            "1    0.009628\n",
            "2    0.010567\n",
            "3    0.014883\n",
            "4    0.014617\n",
            "Name: tasa_efectiva, dtype: float64\n"
          ]
        }
      ]
    },
    {
      "cell_type": "code",
      "source": [
        "# Resumen estadístico de la columna\n",
        "columna = \"tasa_efectiva\"\n",
        "print(\"Descripción de la columna: \" + columna)\n",
        "print(merged_df[columna].describe())\n",
        "print(\"\\n\" + \"-\"*50 + \"\\n\")"
      ],
      "metadata": {
        "colab": {
          "base_uri": "https://localhost:8080/"
        },
        "id": "y7dkDrUbEmJN",
        "outputId": "b669938d-733a-4abe-f5f0-11f5218c4a3a"
      },
      "execution_count": 18,
      "outputs": [
        {
          "output_type": "stream",
          "name": "stdout",
          "text": [
            "Descripción de la columna: tasa_efectiva\n",
            "count    2048.000000\n",
            "mean        0.022304\n",
            "std         0.024304\n",
            "min         0.007099\n",
            "25%         0.013258\n",
            "50%         0.016656\n",
            "75%         0.021294\n",
            "max         0.285235\n",
            "Name: tasa_efectiva, dtype: float64\n",
            "\n",
            "--------------------------------------------------\n",
            "\n"
          ]
        }
      ]
    },
    {
      "cell_type": "markdown",
      "source": [
        "# Tomar la tasa efectiva, multiplicarla por el valor_inicial y dejar este resultado como valor_final, el resultado de esta tabla debe quedar almacenado."
      ],
      "metadata": {
        "id": "4e09hOOSFxjg"
      }
    },
    {
      "cell_type": "code",
      "source": [
        "# valor_final = tasa efectiva * valor_inicial\n",
        "merged_df['valor_final'] = merged_df['tasa_efectiva'] * merged_df['valor_inicial']\n",
        "\n",
        "# Guardar el DataFrame actualizado en un excel\n",
        "merged_df.to_excel(\"./resultados/valor_final_Python.xlsx\", index=False)\n",
        "\n",
        "print(merged_df.valor_final.head())\n"
      ],
      "metadata": {
        "colab": {
          "base_uri": "https://localhost:8080/"
        },
        "id": "b5PUuPWaF1Qk",
        "outputId": "484cbdaf-9c89-41cd-9a6d-59caf82b3909"
      },
      "execution_count": 22,
      "outputs": [
        {
          "output_type": "stream",
          "name": "stdout",
          "text": [
            "0    16284.871534\n",
            "1     2742.580271\n",
            "2      795.544732\n",
            "3     9286.758274\n",
            "4     2790.889388\n",
            "Name: valor_final, dtype: float64\n"
          ]
        }
      ]
    },
    {
      "cell_type": "code",
      "source": [
        "# Resumen estadístico de la columna\n",
        "columna = \"valor_final\"\n",
        "print(\"Descripción de la columna: \" + columna)\n",
        "print(merged_df[columna].describe())\n",
        "print(\"\\n\" + \"-\"*50 + \"\\n\")"
      ],
      "metadata": {
        "colab": {
          "base_uri": "https://localhost:8080/"
        },
        "id": "Wmc9YxUbGyMG",
        "outputId": "027c0310-7cd6-4e81-c5f4-1e8206999bab"
      },
      "execution_count": 26,
      "outputs": [
        {
          "output_type": "stream",
          "name": "stdout",
          "text": [
            "Descripción de la columna: valor_final\n",
            "count    2.048000e+03\n",
            "mean     6.458518e+03\n",
            "std      2.602454e+04\n",
            "min      5.943641e-01\n",
            "25%      7.397754e+02\n",
            "50%      2.071381e+03\n",
            "75%      5.730622e+03\n",
            "max      1.018844e+06\n",
            "Name: valor_final, dtype: float64\n",
            "\n",
            "--------------------------------------------------\n",
            "\n"
          ]
        }
      ]
    },
    {
      "cell_type": "markdown",
      "source": [
        "# Se necesita sumar el valor_final de todas las obligaciones por cliente y dejar únicamente las que tenga una cantidad de productos mayor o igual a 2, el resultado de esta tabla debe quedar almacenado."
      ],
      "metadata": {
        "id": "867XYsJ6IHmN"
      }
    },
    {
      "cell_type": "code",
      "source": [
        "# Agrupar por cliente (num_documento) y calcular la suma de valor_final y el número de productos\n",
        "resumen_clientes = merged_df.groupby('num_documento').agg(\n",
        "    total_valor_final=('valor_final', 'sum'),\n",
        "    cantidad_productos=('id_producto', 'count')\n",
        ").reset_index()\n",
        "\n",
        "# Solo filtrar los clientes con dos o más productos\n",
        "clientes_filtrados = resumen_clientes[resumen_clientes['cantidad_productos'] >= 2]\n",
        "\n",
        "# Guardar el resultado de esta agrupación\n",
        "clientes_filtrados.to_excel(\"./resultados/clientes_filtrados_Python.xlsx\", index=False)\n",
        "\n",
        "print(clientes_filtrados.head())\n"
      ],
      "metadata": {
        "colab": {
          "base_uri": "https://localhost:8080/"
        },
        "id": "TmNp_aTYIH8X",
        "outputId": "79adf5d3-2a18-4c1b-d0bc-128810bb45ef"
      },
      "execution_count": 27,
      "outputs": [
        {
          "output_type": "stream",
          "name": "stdout",
          "text": [
            "   num_documento  total_valor_final  cantidad_productos\n",
            "0        3907738        6741.584647                  10\n",
            "1        4234923       18035.643930                   8\n",
            "3        4935132       14118.804577                   8\n",
            "4        7061608       13730.266357                   5\n",
            "5        7099543       10100.998957                   6\n"
          ]
        }
      ]
    },
    {
      "cell_type": "code",
      "source": [
        "# Resumen estadístico de cada columna\n",
        "for columna in clientes_filtrados.columns:\n",
        "      print(\"Descripción de la columna: \" + columna)\n",
        "      print(clientes_filtrados[columna].describe())\n",
        "      print(\"\\n\" + \"-\"*50 + \"\\n\")"
      ],
      "metadata": {
        "colab": {
          "base_uri": "https://localhost:8080/"
        },
        "id": "sKYq7FY8JQiK",
        "outputId": "c95009d7-3f7c-4fa5-e66d-78d56ca40e3b"
      },
      "execution_count": 29,
      "outputs": [
        {
          "output_type": "stream",
          "name": "stdout",
          "text": [
            "Descripción de la columna: num_documento\n",
            "count    2.650000e+02\n",
            "mean     9.387042e+08\n",
            "std      3.698469e+08\n",
            "min      3.907738e+06\n",
            "25%      9.960665e+08\n",
            "50%      1.080581e+09\n",
            "75%      1.081388e+09\n",
            "max      1.353933e+09\n",
            "Name: num_documento, dtype: float64\n",
            "\n",
            "--------------------------------------------------\n",
            "\n",
            "Descripción de la columna: total_valor_final\n",
            "count    2.650000e+02\n",
            "mean     4.922737e+04\n",
            "std      1.073177e+05\n",
            "min      3.451747e+02\n",
            "25%      7.035161e+03\n",
            "50%      1.373027e+04\n",
            "75%      4.977256e+04\n",
            "max      1.052060e+06\n",
            "Name: total_valor_final, dtype: float64\n",
            "\n",
            "--------------------------------------------------\n",
            "\n",
            "Descripción de la columna: cantidad_productos\n",
            "count    265.000000\n",
            "mean       7.584906\n",
            "std        7.037330\n",
            "min        2.000000\n",
            "25%        3.000000\n",
            "50%        5.000000\n",
            "75%       10.000000\n",
            "max       63.000000\n",
            "Name: cantidad_productos, dtype: float64\n",
            "\n",
            "--------------------------------------------------\n",
            "\n"
          ]
        }
      ]
    }
  ]
}