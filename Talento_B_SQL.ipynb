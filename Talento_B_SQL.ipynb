{
 "cells": [
  {
   "cell_type": "code",
   "execution_count": null,
   "metadata": {
    "colab": {
     "base_uri": "https://localhost:8080/"
    },
    "id": "b5CxbnqCkKOq",
    "outputId": "d394466e-40f4-40d7-e3eb-f88664b09ba2"
   },
   "outputs": [
    {
     "name": "stdout",
     "output_type": "stream",
     "text": [
      "Requirement already satisfied: pandas in /usr/local/lib/python3.10/dist-packages (2.2.2)\n",
      "Collecting pandasql\n",
      "  Downloading pandasql-0.7.3.tar.gz (26 kB)\n",
      "  Preparing metadata (setup.py) ... \u001b[?25l\u001b[?25hdone\n",
      "Requirement already satisfied: numpy>=1.22.4 in /usr/local/lib/python3.10/dist-packages (from pandas) (1.26.4)\n",
      "Requirement already satisfied: python-dateutil>=2.8.2 in /usr/local/lib/python3.10/dist-packages (from pandas) (2.8.2)\n",
      "Requirement already satisfied: pytz>=2020.1 in /usr/local/lib/python3.10/dist-packages (from pandas) (2024.2)\n",
      "Requirement already satisfied: tzdata>=2022.7 in /usr/local/lib/python3.10/dist-packages (from pandas) (2024.2)\n",
      "Requirement already satisfied: sqlalchemy in /usr/local/lib/python3.10/dist-packages (from pandasql) (2.0.36)\n",
      "Requirement already satisfied: six>=1.5 in /usr/local/lib/python3.10/dist-packages (from python-dateutil>=2.8.2->pandas) (1.16.0)\n",
      "Requirement already satisfied: typing-extensions>=4.6.0 in /usr/local/lib/python3.10/dist-packages (from sqlalchemy->pandasql) (4.12.2)\n",
      "Requirement already satisfied: greenlet!=0.4.17 in /usr/local/lib/python3.10/dist-packages (from sqlalchemy->pandasql) (3.1.1)\n",
      "Building wheels for collected packages: pandasql\n",
      "  Building wheel for pandasql (setup.py) ... \u001b[?25l\u001b[?25hdone\n",
      "  Created wheel for pandasql: filename=pandasql-0.7.3-py3-none-any.whl size=26772 sha256=9c0a09eb629ee596c7b1dbb497a2e0abcf212f06bc7c2dfda1d0facf42a050d3\n",
      "  Stored in directory: /root/.cache/pip/wheels/e9/bc/3a/8434bdcccf5779e72894a9b24fecbdcaf97940607eaf4bcdf9\n",
      "Successfully built pandasql\n",
      "Installing collected packages: pandasql\n",
      "Successfully installed pandasql-0.7.3\n"
     ]
    }
   ],
   "source": [
    "# Se va a usar la libreria de pandasSQL para hacer las queries\n",
    "# (Google Colab)\n",
    "!pip install pandas pandasql\n"
   ]
  },
  {
   "cell_type": "code",
   "execution_count": 5,
   "metadata": {
    "id": "dYe1-Gi2myIf"
   },
   "outputs": [],
   "source": [
    "import pandas as pd\n",
    "\n",
    "# Leer los archivos de Excel\n",
    "obligaciones_clientes = pd.read_excel('./datos/obligaciones_clientes.xlsx', sheet_name=\"Obligaciones_clientes\")\n",
    "tasas_productos = pd.read_excel('./datos/tasas_productos.xlsx', sheet_name=\"Tasas\")\n"
   ]
  },
  {
   "cell_type": "markdown",
   "metadata": {
    "id": "vnX9V8x9vpN7"
   },
   "source": [
    "# Se requiere tomar las obligaciones de cada cliente y agregar la tasa correspondiente al producto asignado"
   ]
  },
  {
   "cell_type": "code",
   "execution_count": 3,
   "metadata": {
    "colab": {
     "base_uri": "https://localhost:8080/"
    },
    "id": "L_9FAwuIxHbP",
    "outputId": "636f6ca2-68aa-44db-c09a-7cb69e514c61"
   },
   "outputs": [
    {
     "name": "stdout",
     "output_type": "stream",
     "text": [
      "      radicado  num_documento  cod_segm_tasa  cod_subsegm_tasa  \\\n",
      "0  14427616502     1081648945              5                 2   \n",
      "1  14427616257     1032058622              2                -1   \n",
      "2  14427615471     1081374249              5                 2   \n",
      "3  14426546522      996136114              5                 1   \n",
      "4  14427616197     1080662762              5                 2   \n",
      "\n",
      "  cal_interna_tasa                             id_producto  \\\n",
      "0               C4              OEL - operacion_especifica   \n",
      "1               R1  0000000000097492172 - 29-Cartera Total   \n",
      "2               C4                           OEL - leasing   \n",
      "3               C1  0000000090000272791 - 29-Cartera Total   \n",
      "4               C4  0000000090000242224 - 29-Cartera Total   \n",
      "\n",
      "        tipo_id_producto  valor_inicial            fecha_desembolso  plazo  \\\n",
      "0    cod_plan - producto   1.050000e+06  2023-01-31 00:00:00.000000   60.0   \n",
      "1  Obligacion - producto   2.848500e+05  2021-09-30 00:00:00.000000   61.0   \n",
      "2    cod_plan - producto   7.528858e+04  2023-01-31 00:00:00.000000   60.0   \n",
      "3  Obligacion - producto   6.240000e+05  2021-09-30 00:00:00.000000  121.0   \n",
      "4  Obligacion - producto   1.909350e+05  2021-12-31 00:00:00.000000   48.0   \n",
      "\n",
      "   cod_periodicidad periodicidad   saldo_deuda modalidad tipo_plazo  \\\n",
      "0                 1      MENSUAL  1.050000e+06     Nuevo         LP   \n",
      "1                 1      MENSUAL  2.414313e+05    Actual         LP   \n",
      "2                 1      MENSUAL  7.528858e+04     Nuevo         LP   \n",
      "3                 1      MENSUAL  4.375334e+05    Actual         LP   \n",
      "4                 1      MENSUAL  1.159688e+05    Actual         LP   \n",
      "\n",
      "   tasa_asignada  \n",
      "0       0.202839  \n",
      "1       0.121857  \n",
      "2       0.134434  \n",
      "3       0.193960  \n",
      "4       0.190215  \n"
     ]
    }
   ],
   "source": [
    "import pandas as pd\n",
    "from pandasql import sqldf\n",
    "\n",
    "# Primero toca inicializar una variable para que se pueda ejecutar SQL en sqldf\n",
    "pysqldf = lambda q: sqldf(q, globals())\n",
    "\n",
    "# Consulta para hacer el join de las dos tablas y asignar la tasa que corresponde\n",
    "# al producto de cada fila.\n",
    "query = \"\"\"\n",
    "    SELECT\n",
    "        ob.*,\n",
    "        CASE\n",
    "            WHEN LOWER(ob.id_producto) LIKE '%cartera%' THEN tp.tasa_cartera\n",
    "            WHEN LOWER(ob.id_producto) LIKE '%hipotecario%' THEN tp.tasa_hipotecario\n",
    "            WHEN LOWER(ob.id_producto) LIKE '%leasing%' THEN tp.tasa_leasing\n",
    "            WHEN LOWER(ob.id_producto) LIKE '%sufi%' THEN tp.tasa_sufi\n",
    "            WHEN LOWER(ob.id_producto) LIKE '%factoring%' THEN tp.tasa_factoring\n",
    "            WHEN LOWER(ob.id_producto) LIKE '%tarjeta%' THEN tp.tasa_tarjeta\n",
    "            WHEN LOWER(ob.id_producto) LIKE '%operacion_especifica%' THEN tp.tasa_operacion_especifica\n",
    "            ELSE NULL\n",
    "        END AS tasa_asignada\n",
    "    FROM\n",
    "        obligaciones_clientes AS ob\n",
    "    LEFT JOIN\n",
    "        tasas_productos AS tp\n",
    "    ON\n",
    "        ob.cod_segm_tasa = tp.cod_segmento AND\n",
    "        ob.cod_subsegm_tasa = tp.cod_subsegmento AND\n",
    "        ob.cal_interna_tasa = tp.calificacion_riesgos\n",
    "\"\"\"\n",
    "\n",
    "# Ejecutar la consulta\n",
    "result_df = pysqldf(query)\n",
    "\n",
    "print(result_df.head())\n"
   ]
  },
  {
   "cell_type": "markdown",
   "metadata": {
    "id": "H3PzunGanLm1"
   },
   "source": [
    "# Se debe convertir la tasa a una tasa efectiva"
   ]
  },
  {
   "cell_type": "code",
   "execution_count": 4,
   "metadata": {
    "colab": {
     "base_uri": "https://localhost:8080/"
    },
    "id": "_okSrw_fPpxd",
    "outputId": "881af941-f512-4f05-8e34-30dba8499a45"
   },
   "outputs": [
    {
     "name": "stdout",
     "output_type": "stream",
     "text": [
      "      radicado  num_documento  cod_segm_tasa  cod_subsegm_tasa  \\\n",
      "0  14427616502     1081648945              5                 2   \n",
      "1  14427616257     1032058622              2                -1   \n",
      "2  14427615471     1081374249              5                 2   \n",
      "3  14426546522      996136114              5                 1   \n",
      "4  14427616197     1080662762              5                 2   \n",
      "\n",
      "  cal_interna_tasa                             id_producto  \\\n",
      "0               C4              OEL - operacion_especifica   \n",
      "1               R1  0000000000097492172 - 29-Cartera Total   \n",
      "2               C4                           OEL - leasing   \n",
      "3               C1  0000000090000272791 - 29-Cartera Total   \n",
      "4               C4  0000000090000242224 - 29-Cartera Total   \n",
      "\n",
      "        tipo_id_producto  valor_inicial            fecha_desembolso  plazo  \\\n",
      "0    cod_plan - producto   1.050000e+06  2023-01-31 00:00:00.000000   60.0   \n",
      "1  Obligacion - producto   2.848500e+05  2021-09-30 00:00:00.000000   61.0   \n",
      "2    cod_plan - producto   7.528858e+04  2023-01-31 00:00:00.000000   60.0   \n",
      "3  Obligacion - producto   6.240000e+05  2021-09-30 00:00:00.000000  121.0   \n",
      "4  Obligacion - producto   1.909350e+05  2021-12-31 00:00:00.000000   48.0   \n",
      "\n",
      "   cod_periodicidad periodicidad   saldo_deuda modalidad tipo_plazo  \\\n",
      "0                 1      MENSUAL  1.050000e+06     Nuevo         LP   \n",
      "1                 1      MENSUAL  2.414313e+05    Actual         LP   \n",
      "2                 1      MENSUAL  7.528858e+04     Nuevo         LP   \n",
      "3                 1      MENSUAL  4.375334e+05    Actual         LP   \n",
      "4                 1      MENSUAL  1.159688e+05    Actual         LP   \n",
      "\n",
      "   tasa_asignada  tasa_efectiva  \n",
      "0       0.202839       0.015509  \n",
      "1       0.121857       0.009628  \n",
      "2       0.134434       0.010567  \n",
      "3       0.193960       0.014883  \n",
      "4       0.190215       0.014617  \n"
     ]
    }
   ],
   "source": [
    "# Desde el punto 1 ya está inicializada la variable para ejecutar las queries\n",
    "\n",
    "# Consulta para calcular la tasa efectiva dependiendo de la periodicidad de la fila\n",
    "query = \"\"\"\n",
    "SELECT\n",
    "    *,\n",
    "    POWER(1 + tasa_asignada, 1.0 / (12.0 /\n",
    "        CASE\n",
    "            WHEN LOWER(periodicidad) = 'mensual' THEN 1\n",
    "            WHEN LOWER(periodicidad) = 'bimensual' THEN 2\n",
    "            WHEN LOWER(periodicidad) = 'trimestral' THEN 3\n",
    "            WHEN LOWER(periodicidad) = 'semestral' THEN 6\n",
    "            WHEN LOWER(periodicidad) = 'anual' THEN 12\n",
    "            ELSE NULL\n",
    "        END)) - 1 AS tasa_efectiva\n",
    "FROM result_df\n",
    "\"\"\"\n",
    "\n",
    "# Ejecutar la consulta\n",
    "result_df = sqldf(query)\n",
    "\n",
    "print(result_df.head())\n"
   ]
  },
  {
   "cell_type": "markdown",
   "metadata": {
    "id": "XPN3vtNoT302"
   },
   "source": [
    "# Tomar la tasa efectiva, multiplicarla por el valor_inicial y dejar este resultado como valor_final, el resultado de esta tabla debe quedar almacenado."
   ]
  },
  {
   "cell_type": "code",
   "execution_count": 7,
   "metadata": {
    "colab": {
     "base_uri": "https://localhost:8080/"
    },
    "id": "gB3H6h8BT4K3",
    "outputId": "a1b67443-4219-49eb-f11d-0e36023151dd"
   },
   "outputs": [
    {
     "name": "stdout",
     "output_type": "stream",
     "text": [
      "    valor_final\n",
      "0  16284.871534\n",
      "1   2742.580271\n",
      "2    795.544732\n",
      "3   9286.758274\n",
      "4   2790.889388\n"
     ]
    }
   ],
   "source": [
    "# Desde el punto 1 ya está inicializada la variable para ejecutar las queries\n",
    "\n",
    "# valor_final = tasa efectiva * valor_inicial\n",
    "query = \"\"\"\n",
    "SELECT\n",
    "    *,\n",
    "    tasa_efectiva * valor_inicial AS valor_final\n",
    "FROM result_df\n",
    "\"\"\"\n",
    "\n",
    "# Ejecutar la consulta SQL\n",
    "final_df = sqldf(query)\n",
    "\n",
    "# Guardar el DataFrame en un archivo Excel\n",
    "final_df.to_excel(\"./resultados/valor_final_SQL.xlsx\", index=False)\n",
    "\n",
    "print(final_df[['valor_final']].head())\n"
   ]
  },
  {
   "cell_type": "markdown",
   "metadata": {
    "id": "O86RZHCfUZL3"
   },
   "source": [
    "# Se necesita sumar el valor_final de todas las obligaciones por cliente y dejar únicamente las que tenga una cantidad de productos mayor o igual a 2, el resultado de esta tabla debe quedar almacenado."
   ]
  },
  {
   "cell_type": "code",
   "execution_count": 8,
   "metadata": {
    "colab": {
     "base_uri": "https://localhost:8080/"
    },
    "id": "zpdNsQacUZUg",
    "outputId": "920d5256-1e17-46c1-b34c-f922fce2b1d8"
   },
   "outputs": [
    {
     "name": "stdout",
     "output_type": "stream",
     "text": [
      "   num_documento  total_valor_final  cantidad_productos\n",
      "0        3907738        6741.584647                  10\n",
      "1        4234923       18035.643930                   8\n",
      "2        4935132       14118.804577                   8\n",
      "3        7061608       13730.266357                   5\n",
      "4        7099543       10100.998957                   6\n"
     ]
    }
   ],
   "source": [
    "# Desde el punto 1 ya está inicializada la variable para ejecutar las queries\n",
    "\n",
    "# agrupar por cliente, calcular la suma y contar productos\n",
    "# luego filtrar clientes con al menos 2 productos\n",
    "query = \"\"\"\n",
    "SELECT\n",
    "    num_documento,\n",
    "    SUM(valor_final) AS total_valor_final,\n",
    "    COUNT(id_producto) AS cantidad_productos\n",
    "FROM final_df\n",
    "GROUP BY num_documento\n",
    "HAVING COUNT(id_producto) >= 2\n",
    "\"\"\"\n",
    "\n",
    "# Ejecutar la consulta SQL\n",
    "clientes_filtrados = sqldf(query)\n",
    "\n",
    "# Guardar el resultado en un archivo Excel\n",
    "clientes_filtrados.to_excel(\"./resultados/clientes_filtrados_SQL.xlsx\", index=False)\n",
    "\n",
    "print(clientes_filtrados.head())\n"
   ]
  }
 ],
 "metadata": {
  "colab": {
   "provenance": []
  },
  "kernelspec": {
   "display_name": "Python 3",
   "name": "python3"
  },
  "language_info": {
   "name": "python"
  }
 },
 "nbformat": 4,
 "nbformat_minor": 0
}
